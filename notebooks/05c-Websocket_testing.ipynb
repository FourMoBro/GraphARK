{
 "cells": [
  {
   "cell_type": "code",
   "execution_count": 1,
   "id": "83d6f1e8",
   "metadata": {},
   "outputs": [],
   "source": [
    "import os\n",
    "from dotenv import load_dotenv, find_dotenv"
   ]
  },
  {
   "cell_type": "code",
   "execution_count": 2,
   "id": "c8f1e967",
   "metadata": {},
   "outputs": [
    {
     "data": {
      "text/plain": [
       "True"
      ]
     },
     "execution_count": 2,
     "metadata": {},
     "output_type": "execute_result"
    }
   ],
   "source": [
    "load_dotenv(find_dotenv())"
   ]
  },
  {
   "cell_type": "code",
   "execution_count": 5,
   "id": "a1bf44ae",
   "metadata": {},
   "outputs": [],
   "source": [
    "api_key2 = os.environ.get(\"ALPACA_API_KEY\")\n",
    "secret_key2 = os.environ.get(\"ALPACA_SECRET_KEY\")\n",
    "api_key = os.environ.get(\"POLYGON_API_KEY\")\n",
    "ticker = \"SPY\""
   ]
  },
  {
   "cell_type": "code",
   "execution_count": null,
   "id": "2cff17d1",
   "metadata": {},
   "outputs": [],
   "source": [
    "#alpaca way\n",
    "import websocket, json\n"
   ]
  },
  {
   "cell_type": "code",
   "execution_count": null,
   "id": "b48d3fb0",
   "metadata": {},
   "outputs": [],
   "source": [
    "def on_open(ws):\n",
    "    print(\"opened\")\n",
    "    auth_data = {\n",
    "        \"action\": \"authenticate\",\n",
    "        \"data\": {\"key_id\": api_key2, \"secret_key\": secret_key2}\n",
    "    }\n",
    "\n",
    "    ws.send(json.dumps(auth_data))\n",
    "\n",
    "    listen_message = {\"action\": \"listen\", \"data\": {\"streams\": [f\"AM.{ticker}\"]}}\n",
    "\n",
    "    ws.send(json.dumps(listen_message))"
   ]
  },
  {
   "cell_type": "code",
   "execution_count": null,
   "id": "d230e445",
   "metadata": {},
   "outputs": [],
   "source": [
    "def on_message(ws, message):\n",
    "    print(\"received a message\")\n",
    "    print(message)"
   ]
  },
  {
   "cell_type": "code",
   "execution_count": null,
   "id": "cd13478c",
   "metadata": {},
   "outputs": [],
   "source": [
    "def on_close(ws):\n",
    "    print(\"closed connection\")"
   ]
  },
  {
   "cell_type": "code",
   "execution_count": null,
   "id": "82171892",
   "metadata": {},
   "outputs": [],
   "source": [
    "socket = \"wss://paper-api.alpaca.markets/stream\""
   ]
  },
  {
   "cell_type": "code",
   "execution_count": null,
   "id": "4bfa5e3d",
   "metadata": {},
   "outputs": [],
   "source": [
    "ws = websocket.WebSocketApp(socket, on_open=on_open, on_message=on_message, on_close=on_close)\n",
    "ws.run_forever()"
   ]
  },
  {
   "cell_type": "code",
   "execution_count": null,
   "id": "457cf269",
   "metadata": {},
   "outputs": [],
   "source": []
  }
 ],
 "metadata": {
  "kernelspec": {
   "display_name": "Python 3 (ipykernel)",
   "language": "python",
   "name": "python3"
  },
  "language_info": {
   "codemirror_mode": {
    "name": "ipython",
    "version": 3
   },
   "file_extension": ".py",
   "mimetype": "text/x-python",
   "name": "python",
   "nbconvert_exporter": "python",
   "pygments_lexer": "ipython3",
   "version": "3.9.6"
  }
 },
 "nbformat": 4,
 "nbformat_minor": 5
}

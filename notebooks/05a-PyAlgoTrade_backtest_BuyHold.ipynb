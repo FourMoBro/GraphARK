{
 "cells": [
  {
   "cell_type": "code",
   "execution_count": 1,
   "id": "d84e6d1d",
   "metadata": {},
   "outputs": [],
   "source": [
    "import yfinance\n",
    "from pyalgotrade import strategy\n",
    "from pyalgotrade.barfeed import yahoofeed"
   ]
  },
  {
   "cell_type": "code",
   "execution_count": 2,
   "id": "52b55e9f",
   "metadata": {},
   "outputs": [
    {
     "name": "stdout",
     "output_type": "stream",
     "text": [
      "[*********************100%***********************]  1 of 1 completed\n"
     ]
    },
    {
     "data": {
      "text/html": [
       "<div>\n",
       "<style scoped>\n",
       "    .dataframe tbody tr th:only-of-type {\n",
       "        vertical-align: middle;\n",
       "    }\n",
       "\n",
       "    .dataframe tbody tr th {\n",
       "        vertical-align: top;\n",
       "    }\n",
       "\n",
       "    .dataframe thead th {\n",
       "        text-align: right;\n",
       "    }\n",
       "</style>\n",
       "<table border=\"1\" class=\"dataframe\">\n",
       "  <thead>\n",
       "    <tr style=\"text-align: right;\">\n",
       "      <th></th>\n",
       "      <th>Open</th>\n",
       "      <th>High</th>\n",
       "      <th>Low</th>\n",
       "      <th>Close</th>\n",
       "      <th>Adj Close</th>\n",
       "      <th>Volume</th>\n",
       "    </tr>\n",
       "    <tr>\n",
       "      <th>Date</th>\n",
       "      <th></th>\n",
       "      <th></th>\n",
       "      <th></th>\n",
       "      <th></th>\n",
       "      <th></th>\n",
       "      <th></th>\n",
       "    </tr>\n",
       "  </thead>\n",
       "  <tbody>\n",
       "    <tr>\n",
       "      <th>1994-01-03</th>\n",
       "      <td>46.59375</td>\n",
       "      <td>46.65625</td>\n",
       "      <td>46.40625</td>\n",
       "      <td>46.46875</td>\n",
       "      <td>27.971474</td>\n",
       "      <td>960900</td>\n",
       "    </tr>\n",
       "    <tr>\n",
       "      <th>1994-01-04</th>\n",
       "      <td>46.53125</td>\n",
       "      <td>46.65625</td>\n",
       "      <td>46.46875</td>\n",
       "      <td>46.65625</td>\n",
       "      <td>28.084343</td>\n",
       "      <td>164300</td>\n",
       "    </tr>\n",
       "    <tr>\n",
       "      <th>1994-01-05</th>\n",
       "      <td>46.71875</td>\n",
       "      <td>46.78125</td>\n",
       "      <td>46.53125</td>\n",
       "      <td>46.75000</td>\n",
       "      <td>28.140778</td>\n",
       "      <td>710900</td>\n",
       "    </tr>\n",
       "    <tr>\n",
       "      <th>1994-01-06</th>\n",
       "      <td>46.81250</td>\n",
       "      <td>46.84375</td>\n",
       "      <td>46.68750</td>\n",
       "      <td>46.75000</td>\n",
       "      <td>28.140778</td>\n",
       "      <td>201000</td>\n",
       "    </tr>\n",
       "    <tr>\n",
       "      <th>1994-01-07</th>\n",
       "      <td>46.84375</td>\n",
       "      <td>47.06250</td>\n",
       "      <td>46.71875</td>\n",
       "      <td>47.03125</td>\n",
       "      <td>28.310053</td>\n",
       "      <td>775500</td>\n",
       "    </tr>\n",
       "  </tbody>\n",
       "</table>\n",
       "</div>"
      ],
      "text/plain": [
       "                Open      High       Low     Close  Adj Close  Volume\n",
       "Date                                                                 \n",
       "1994-01-03  46.59375  46.65625  46.40625  46.46875  27.971474  960900\n",
       "1994-01-04  46.53125  46.65625  46.46875  46.65625  28.084343  164300\n",
       "1994-01-05  46.71875  46.78125  46.53125  46.75000  28.140778  710900\n",
       "1994-01-06  46.81250  46.84375  46.68750  46.75000  28.140778  201000\n",
       "1994-01-07  46.84375  47.06250  46.71875  47.03125  28.310053  775500"
      ]
     },
     "execution_count": 2,
     "metadata": {},
     "output_type": "execute_result"
    }
   ],
   "source": [
    "symbol = \"spy\"\n",
    "start_date = \"1994-01-01\"\n",
    "end_date = \"2021-08-12\"\n",
    "data = yfinance.download(symbol, start=start_date, end=end_date)\n",
    "file_name = f\"{symbol}.csv\"\n",
    "data.to_csv(file_name)\n",
    "data.head()"
   ]
  },
  {
   "cell_type": "code",
   "execution_count": 3,
   "id": "ab84c980",
   "metadata": {},
   "outputs": [],
   "source": [
    "class BuyAndHoldStrategy(strategy.BacktestingStrategy):\n",
    "\n",
    "    def __init__(self, feed, instrument):\n",
    "        super(BuyAndHoldStrategy, self).__init__(feed)\n",
    "        self.instrument = instrument\n",
    "        self.setUseAdjustedValues(True)\n",
    "        self.position = None\n",
    "\n",
    "    def onEnterOk(self, position):\n",
    "        self.info(f\"{position.getEntryOrder().getExecutionInfo()}\")\n",
    "    \n",
    "    def onBars(self, bars):\n",
    "        bar = bars[self.instrument]\n",
    "\n",
    "        if self.position is None:\n",
    "            close = bar.getAdjClose()\n",
    "            broker = self.getBroker()\n",
    "            cash = broker.getCash()*.98\n",
    "            quantity = cash / close\n",
    "\n",
    "            self.position = self.enterLong(self.instrument, quantity)"
   ]
  },
  {
   "cell_type": "code",
   "execution_count": 4,
   "id": "f3d98b39",
   "metadata": {},
   "outputs": [],
   "source": [
    "# # Load the bar feed from the CSV file\n",
    "feed = yahoofeed.Feed()\n",
    "feed.addBarsFromCSV(symbol, file_name)\n",
    "\n",
    "strategy = BuyAndHoldStrategy(feed, symbol)\n",
    "\n"
   ]
  },
  {
   "cell_type": "code",
   "execution_count": 5,
   "id": "15be3fdb",
   "metadata": {},
   "outputs": [
    {
     "name": "stderr",
     "output_type": "stream",
     "text": [
      "1994-01-04 00:00:00 strategy [INFO] 1994-01-04 00:00:00 - Price: 28.009100242660736 - Amount: 35035 - Fee: 0\n"
     ]
    }
   ],
   "source": [
    "strategy.run()"
   ]
  },
  {
   "cell_type": "code",
   "execution_count": 6,
   "id": "d72e6e4d",
   "metadata": {},
   "outputs": [
    {
     "name": "stdout",
     "output_type": "stream",
     "text": [
      "15585234.60322943\n"
     ]
    }
   ],
   "source": [
    "portfolio_value = strategy.getBroker().getEquity() + strategy.getBroker().getCash()\n",
    "print(portfolio_value)"
   ]
  },
  {
   "cell_type": "code",
   "execution_count": null,
   "id": "7f734ada",
   "metadata": {},
   "outputs": [],
   "source": []
  }
 ],
 "metadata": {
  "kernelspec": {
   "display_name": "Python 3 (ipykernel)",
   "language": "python",
   "name": "python3"
  },
  "language_info": {
   "codemirror_mode": {
    "name": "ipython",
    "version": 3
   },
   "file_extension": ".py",
   "mimetype": "text/x-python",
   "name": "python",
   "nbconvert_exporter": "python",
   "pygments_lexer": "ipython3",
   "version": "3.9.6"
  }
 },
 "nbformat": 4,
 "nbformat_minor": 5
}

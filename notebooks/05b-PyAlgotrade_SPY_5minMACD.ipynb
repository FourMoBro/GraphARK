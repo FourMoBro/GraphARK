{
 "cells": [
  {
   "cell_type": "code",
   "execution_count": 1,
   "id": "97e0643e",
   "metadata": {},
   "outputs": [],
   "source": [
    "import yfinance as yf"
   ]
  },
  {
   "cell_type": "code",
   "execution_count": 2,
   "id": "fd1dc1a2",
   "metadata": {},
   "outputs": [],
   "source": [
    "symbol = \"spy\"\n",
    "period = \"1d\"\n",
    "interval = \"5m\"\n",
    "file_name = f\"{symbol}.csv\""
   ]
  },
  {
   "cell_type": "code",
   "execution_count": 3,
   "id": "55f6f69a",
   "metadata": {},
   "outputs": [],
   "source": [
    "ticker = yf.Ticker(symbol)"
   ]
  },
  {
   "cell_type": "code",
   "execution_count": 4,
   "id": "082a02be",
   "metadata": {},
   "outputs": [],
   "source": [
    "data = ticker.history(period=period, interval=interval, auto_adjust = True, prepost=True)"
   ]
  },
  {
   "cell_type": "code",
   "execution_count": 5,
   "id": "ad5e98fc",
   "metadata": {},
   "outputs": [
    {
     "data": {
      "text/html": [
       "<div>\n",
       "<style scoped>\n",
       "    .dataframe tbody tr th:only-of-type {\n",
       "        vertical-align: middle;\n",
       "    }\n",
       "\n",
       "    .dataframe tbody tr th {\n",
       "        vertical-align: top;\n",
       "    }\n",
       "\n",
       "    .dataframe thead th {\n",
       "        text-align: right;\n",
       "    }\n",
       "</style>\n",
       "<table border=\"1\" class=\"dataframe\">\n",
       "  <thead>\n",
       "    <tr style=\"text-align: right;\">\n",
       "      <th></th>\n",
       "      <th>Open</th>\n",
       "      <th>High</th>\n",
       "      <th>Low</th>\n",
       "      <th>Close</th>\n",
       "      <th>Volume</th>\n",
       "      <th>Adj Close</th>\n",
       "    </tr>\n",
       "    <tr>\n",
       "      <th>Datetime</th>\n",
       "      <th></th>\n",
       "      <th></th>\n",
       "      <th></th>\n",
       "      <th></th>\n",
       "      <th></th>\n",
       "      <th></th>\n",
       "    </tr>\n",
       "  </thead>\n",
       "  <tbody>\n",
       "    <tr>\n",
       "      <th>2021-08-19 11:40:00-04:00</th>\n",
       "      <td>439.315002</td>\n",
       "      <td>440.079987</td>\n",
       "      <td>439.249908</td>\n",
       "      <td>440.078308</td>\n",
       "      <td>561339</td>\n",
       "      <td>440.078308</td>\n",
       "    </tr>\n",
       "    <tr>\n",
       "      <th>2021-08-19 11:45:00-04:00</th>\n",
       "      <td>440.059998</td>\n",
       "      <td>440.755005</td>\n",
       "      <td>440.040009</td>\n",
       "      <td>440.670013</td>\n",
       "      <td>1252588</td>\n",
       "      <td>440.670013</td>\n",
       "    </tr>\n",
       "    <tr>\n",
       "      <th>2021-08-19 11:50:00-04:00</th>\n",
       "      <td>440.709991</td>\n",
       "      <td>440.809998</td>\n",
       "      <td>440.584686</td>\n",
       "      <td>440.589905</td>\n",
       "      <td>718451</td>\n",
       "      <td>440.589905</td>\n",
       "    </tr>\n",
       "    <tr>\n",
       "      <th>2021-08-19 11:55:00-04:00</th>\n",
       "      <td>440.599915</td>\n",
       "      <td>440.890015</td>\n",
       "      <td>440.599915</td>\n",
       "      <td>440.829895</td>\n",
       "      <td>244294</td>\n",
       "      <td>440.829895</td>\n",
       "    </tr>\n",
       "    <tr>\n",
       "      <th>2021-08-19 11:57:40-04:00</th>\n",
       "      <td>440.890015</td>\n",
       "      <td>440.890015</td>\n",
       "      <td>440.890015</td>\n",
       "      <td>440.890015</td>\n",
       "      <td>0</td>\n",
       "      <td>440.890015</td>\n",
       "    </tr>\n",
       "  </tbody>\n",
       "</table>\n",
       "</div>"
      ],
      "text/plain": [
       "                                 Open        High         Low       Close  \\\n",
       "Datetime                                                                    \n",
       "2021-08-19 11:40:00-04:00  439.315002  440.079987  439.249908  440.078308   \n",
       "2021-08-19 11:45:00-04:00  440.059998  440.755005  440.040009  440.670013   \n",
       "2021-08-19 11:50:00-04:00  440.709991  440.809998  440.584686  440.589905   \n",
       "2021-08-19 11:55:00-04:00  440.599915  440.890015  440.599915  440.829895   \n",
       "2021-08-19 11:57:40-04:00  440.890015  440.890015  440.890015  440.890015   \n",
       "\n",
       "                            Volume   Adj Close  \n",
       "Datetime                                        \n",
       "2021-08-19 11:40:00-04:00   561339  440.078308  \n",
       "2021-08-19 11:45:00-04:00  1252588  440.670013  \n",
       "2021-08-19 11:50:00-04:00   718451  440.589905  \n",
       "2021-08-19 11:55:00-04:00   244294  440.829895  \n",
       "2021-08-19 11:57:40-04:00        0  440.890015  "
      ]
     },
     "execution_count": 5,
     "metadata": {},
     "output_type": "execute_result"
    }
   ],
   "source": [
    "data=data.drop(columns=[\"Dividends\", \"Stock Splits\"])\n",
    "data['Adj Close']=data['Close']\n",
    "data.tail()"
   ]
  },
  {
   "cell_type": "code",
   "execution_count": 6,
   "id": "d6f7a454",
   "metadata": {},
   "outputs": [],
   "source": [
    "data.to_csv(file_name)\n",
    "#cleaned up in vscode to change to \"Date Time\" and to remove \"-04:00\""
   ]
  },
  {
   "cell_type": "code",
   "execution_count": null,
   "id": "56bd9def",
   "metadata": {},
   "outputs": [],
   "source": [
    "INITIAL_BUDGET = 5000\n",
    "BUDGET_USE = 0.50\n",
    "RISK_PERCENT = 0"
   ]
  },
  {
   "cell_type": "code",
   "execution_count": 7,
   "id": "038f6a8d",
   "metadata": {},
   "outputs": [],
   "source": [
    "import datetime\n",
    "import math\n",
    "market_opentime = datetime.time(9,30,0) #6:30 AM PT\n",
    "arb_tradestoptime = datetime.time(14,0,0) #11 AM PT"
   ]
  },
  {
   "cell_type": "code",
   "execution_count": 8,
   "id": "bc3ff4f0",
   "metadata": {},
   "outputs": [
    {
     "data": {
      "text/plain": [
       "datetime.time(9, 30)"
      ]
     },
     "execution_count": 8,
     "metadata": {},
     "output_type": "execute_result"
    }
   ],
   "source": [
    "market_opentime"
   ]
  },
  {
   "cell_type": "code",
   "execution_count": 9,
   "id": "62f25135",
   "metadata": {},
   "outputs": [],
   "source": [
    "\n",
    "from pyalgotrade import strategy\n",
    "from pyalgotrade.barfeed import csvfeed\n",
    "from pyalgotrade.technical import macd"
   ]
  },
  {
   "cell_type": "code",
   "execution_count": 10,
   "id": "0c64e592",
   "metadata": {},
   "outputs": [],
   "source": [
    "# # Load the bar feed from the CSV file\n",
    "feed = csvfeed.GenericBarFeed(frequency=\"minute\")\n",
    "feed.addBarsFromCSV(symbol, file_name)"
   ]
  },
  {
   "cell_type": "code",
   "execution_count": 11,
   "id": "66e3bacb",
   "metadata": {},
   "outputs": [],
   "source": [
    "def safe_round(value, digits):\n",
    "    if value is not None:\n",
    "        value = round(value, digits)\n",
    "    return value"
   ]
  },
  {
   "cell_type": "code",
   "execution_count": 12,
   "id": "2a090332",
   "metadata": {},
   "outputs": [],
   "source": [
    "class MyStrategy(strategy.BacktestingStrategy):\n",
    "    def __init__(self, feed, instrument):\n",
    "        super(MyStrategy, self).__init__(feed)\n",
    "        self.__position = None\n",
    "        #Looking for a MACD crossover\n",
    "        #self.__sma = ma.SMA(feed[instrument].getCloseDataSeries(), 15)\n",
    "        self.__macd = macd.MACD(feed[instrument].getCloseDataSeries(), 12, 26, 9)\n",
    "        self.__instrument = instrument\n",
    "\n",
    "    def onEnterOk(self, position):\n",
    "        execInfo = position.getEntryOrder().getExecutionInfo()\n",
    "        self.info(f\"BUY at ${execInfo.getPrice()}\")\n",
    "    \n",
    "    def onExitOk(self, position):\n",
    "        execInfo = position.getExitOrder().getExecutionInfo()\n",
    "        self.info(f\"SELL at ${execInfo.getPrice()}\")\n",
    "        self.__position = None\n",
    "    \n",
    "    def onBars(self, bars):\n",
    "        # Wait for enough bars to be available to calculate a SMA.\n",
    "        if self.__macd.getHistogram()[-1] is None:\n",
    "            return\n",
    "        if self.__macd.getHistogram()[-2] is None:\n",
    "            return\n",
    "        \n",
    "        bar = bars[self.__instrument]\n",
    "        if self.__position is None:\n",
    "            if market_opentime <= bar.getDateTime().time() <= arb_tradestoptime:\n",
    "                if self.__macd.getHistogram()[-1]>0 and self.__macd.getHistogram()[-2]<0:\n",
    "                    print(f\"Crossover UP detected at {bar.getDateTime()}. {symbol.upper()} price was ${safe_round(bar.getClose(), 2)}. Buy some {math.ceil(bar.getClose())} CALLS.\")\n",
    "                    self.__position = self.enterLong(self.__instrument, 10, True)                   \n",
    "                    \n",
    "                if self.__macd.getHistogram()[-1]<0 and self.__macd.getHistogram()[-2]>0:\n",
    "                    self.__position = self.enterShort(self.__instrument, 10, True)                    \n",
    "                    print(f\"Crossover DOWN detected at {bar.getDateTime()}. {symbol.upper()} price was ${safe_round(bar.getClose(), 2)}. Buy some {math.floor(bar.getClose())} PUTS.\") \n",
    "\n",
    "        if self.__position:\n",
    "            if self.__position.getEntryOrder().getAction() == 4:\n",
    "                if self.__macd.getHistogram()[-1] > self.__macd.getHistogram()[-2]:\n",
    "                    print(f\"Momentum slowing at {bar.getDateTime()}.\")\n",
    "                    self.__position.exitMarket()\n",
    "            else:\n",
    "                if self.__macd.getHistogram()[-1] < self.__macd.getHistogram()[-2]:\n",
    "                    print(f\"Momentum slowing at {bar.getDateTime()}.\")\n",
    "                    self.__position.exitMarket()\n",
    "                    \n",
    "        \n",
    "            \n",
    "                \n",
    "            \n",
    "\n",
    "        #self.info(\"%s %s\" % (bar.getClose(), safe_round(self.__macd.getHistogram()[-1], 4)))"
   ]
  },
  {
   "cell_type": "code",
   "execution_count": 13,
   "id": "b8be8a34",
   "metadata": {
    "scrolled": true
   },
   "outputs": [
    {
     "name": "stderr",
     "output_type": "stream",
     "text": [
      "2021-08-19 10:40:00 strategy [INFO] BUY at $437.89898681640625\n",
      "2021-08-19 10:55:00 strategy [INFO] SELL at $438.3800048828125\n",
      "2021-08-19 11:25:00 strategy [INFO] BUY at $439.6300048828125\n",
      "2021-08-19 11:30:00 strategy [INFO] SELL at $438.94000244140625\n",
      "2021-08-19 11:50:00 strategy [INFO] BUY at $440.7099914550781\n"
     ]
    },
    {
     "name": "stdout",
     "output_type": "stream",
     "text": [
      "Crossover DOWN detected at 2021-08-19 10:35:00. SPY price was $437.9. Buy some 437 PUTS.\n",
      "Momentum slowing at 2021-08-19 10:50:00.\n",
      "Crossover UP detected at 2021-08-19 11:20:00. SPY price was $439.65. Buy some 440 CALLS.\n",
      "Momentum slowing at 2021-08-19 11:25:00.\n",
      "Crossover UP detected at 2021-08-19 11:45:00. SPY price was $440.67. Buy some 441 CALLS.\n"
     ]
    }
   ],
   "source": [
    "ms1 = MyStrategy(feed, symbol)\n",
    "ms1.run()"
   ]
  },
  {
   "cell_type": "code",
   "execution_count": null,
   "id": "dcf72e65",
   "metadata": {},
   "outputs": [],
   "source": [
    "#reverse order:\n",
    "option time price \n",
    "444P @10:01 $0.76    $0.81@10:03\n",
    "444C @07:26 $0.64    $0.68@07:30\n",
    "443C @09:21 $0.36    $0.82@12:27\n",
    "443P @07:01 $0.24    $0.37@07:36\n",
    "442P @9:40 $0.65     $0.70@09:47\n",
    "443C @8:35 $0.85     $1.02@08:48\n",
    "442P @7:35 $0.82     $1.24@07:54\n",
    "443C @11:00 $\n",
    "    \n",
    "445P 6:35 0.40-0.47\n",
    "446C 6:45 0.28-0.44\n",
    "445P 7:00 0.30-0.55calc\n",
    "446C 7:20 0.28-0.36\n",
    "445P 7:25 0.24-0.34\n",
    "446C 7:33 0.24\n",
    "    \n",
    "    8/17 445C 1.00 OPEn @ 7:25 1.20 High @ 7:29 1.13 Open @ 7:30\n",
    "    8/17 443P 0.89 Open @ 8:25 1.11 High @ 8:29 1.07 Open @ 8:30\n",
    "    8/17 443C 1.04 Open @ 10:25 1.25 High @ 10:29 1.17 Open @ 10:35\n",
    "    \n",
    "    8/18 444C @6:45 0.54O 1.13H @7:19 1.05O @ 7:25\n",
    "    8/18 444P @7:50 0.77O 1.16H@8:18 0.99O@8:20   \n",
    "    8/18 444C @9:15 0.44O  0.46H @9:15 0.42O@9:20\n",
    "    8/18 444C @9:55 0.28O 0.34H@10:00 0.29O@10:15\n",
    "    8/18 443P @10:25 0.57O 0.65H@10:27 0.56O@10:30\n",
    "    8/18 444C @10:35 0.24O  0.62H@11:05 0.38O@11:10\n",
    "    \n",
    "    8/19 437P @7:35 1.78 2.22H@7:48 2.14O@7:50\n",
    "    8/19 440C @8:20 1.85 1.86@8:25 LOSER if SL\n",
    "    8/19 441C @8:45 1.39O \n",
    "                \n",
    "        \n",
    "    "
   ]
  }
 ],
 "metadata": {
  "kernelspec": {
   "display_name": "Python 3 (ipykernel)",
   "language": "python",
   "name": "python3"
  },
  "language_info": {
   "codemirror_mode": {
    "name": "ipython",
    "version": 3
   },
   "file_extension": ".py",
   "mimetype": "text/x-python",
   "name": "python",
   "nbconvert_exporter": "python",
   "pygments_lexer": "ipython3",
   "version": "3.9.6"
  }
 },
 "nbformat": 4,
 "nbformat_minor": 5
}

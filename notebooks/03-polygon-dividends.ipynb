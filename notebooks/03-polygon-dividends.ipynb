{
 "cells": [
  {
   "cell_type": "code",
   "execution_count": 1,
   "id": "005ed891",
   "metadata": {},
   "outputs": [],
   "source": [
    "import os\n",
    "from polygon import RESTClient\n",
    "from dotenv import load_dotenv, find_dotenv\n",
    "import psycopg2\n",
    "import psycopg2.extras "
   ]
  },
  {
   "cell_type": "code",
   "execution_count": 2,
   "id": "9f5b0f13",
   "metadata": {},
   "outputs": [
    {
     "data": {
      "text/plain": [
       "True"
      ]
     },
     "execution_count": 2,
     "metadata": {},
     "output_type": "execute_result"
    }
   ],
   "source": [
    "load_dotenv(find_dotenv())"
   ]
  },
  {
   "cell_type": "code",
   "execution_count": 3,
   "id": "2e0d3bce",
   "metadata": {},
   "outputs": [],
   "source": [
    "api_key2 = os.environ.get(\"POLYGON_API_KEY\")\n",
    "host2 = os.environ.get(\"DB_HOST\")\n",
    "database2 = os.environ.get(\"DB_NAME\")\n",
    "user2 = os.environ.get(\"DB_USER\")\n",
    "password2 = os.environ.get(\"DB_PASSWORD\")"
   ]
  },
  {
   "cell_type": "code",
   "execution_count": 16,
   "id": "d6e75689",
   "metadata": {},
   "outputs": [
    {
     "name": "stdout",
     "output_type": "stream",
     "text": [
      "33\n",
      "[{'ticker': 'IBM', 'exDate': '2021-08-09', 'paymentDate': '2021-09-10', 'recordDate': '2021-08-10', 'amount': 1.64}, {'ticker': 'IBM', 'exDate': '2021-05-07', 'paymentDate': '2021-06-10', 'recordDate': '2018-05-06', 'declaredDate': '2021-04-27', 'amount': 1.64}, {'ticker': 'IBM', 'exDate': '2021-02-09', 'paymentDate': '2021-03-10', 'recordDate': '2021-02-10', 'amount': 1.63}, {'ticker': 'IBM', 'exDate': '2020-11-09', 'paymentDate': '2020-12-10', 'recordDate': '2020-11-10', 'amount': 1.63}, {'ticker': 'IBM', 'exDate': '2020-08-07', 'paymentDate': '2020-09-10', 'recordDate': '2020-08-10', 'amount': 1.63}, {'ticker': 'IBM', 'exDate': '2020-05-07', 'paymentDate': '2020-06-10', 'recordDate': '2020-05-08', 'amount': 1.63}, {'ticker': 'IBM', 'exDate': '2020-02-07', 'paymentDate': '2020-03-10', 'recordDate': '2020-02-10', 'amount': 1.62}, {'ticker': 'IBM', 'exDate': '2019-11-07', 'paymentDate': '2019-12-10', 'recordDate': '2019-11-08', 'amount': 1.62}, {'ticker': 'IBM', 'exDate': '2019-08-08', 'paymentDate': '2019-09-10', 'recordDate': '2019-08-09', 'amount': 1.62}, {'ticker': 'IBM', 'exDate': '2019-05-09', 'paymentDate': '2019-06-10', 'recordDate': '2019-05-10', 'amount': 1.62}, {'ticker': 'IBM', 'exDate': '2019-02-07', 'paymentDate': '2019-03-09', 'recordDate': '2019-02-08', 'amount': 1.57}, {'ticker': 'IBM', 'exDate': '2018-11-08', 'paymentDate': '2018-12-10', 'recordDate': '2018-11-09', 'declaredDate': '2018-10-30', 'amount': 1.57}, {'ticker': 'IBM', 'exDate': '2018-08-09', 'paymentDate': '2018-09-10', 'recordDate': '2018-08-10', 'declaredDate': '2018-07-31', 'amount': 1.57}, {'ticker': 'IBM', 'exDate': '2018-05-09', 'paymentDate': '2018-06-09', 'recordDate': '2018-05-10', 'declaredDate': '2018-04-24', 'amount': 1.57}, {'ticker': 'IBM', 'exDate': '2018-02-08', 'paymentDate': '2018-03-10', 'recordDate': '2018-02-09', 'declaredDate': '2018-01-30', 'amount': 1.5}, {'ticker': 'IBM', 'exDate': '2017-11-09', 'paymentDate': '2017-12-09', 'recordDate': '2017-11-10', 'declaredDate': '2017-10-31', 'amount': 1.5}, {'ticker': 'IBM', 'exDate': '2017-08-08', 'paymentDate': '2017-09-09', 'recordDate': '2017-08-10', 'declaredDate': '2017-07-25', 'amount': 1.5}, {'ticker': 'IBM', 'exDate': '2017-05-08', 'paymentDate': '2017-06-10', 'recordDate': '2017-05-10', 'declaredDate': '2017-04-25', 'amount': 1.5}, {'ticker': 'IBM', 'exDate': '2017-02-08', 'paymentDate': '2017-03-10', 'recordDate': '2017-02-10', 'declaredDate': '2017-01-31', 'amount': 1.4}, {'ticker': 'IBM', 'exDate': '2016-11-08', 'paymentDate': '2016-12-10', 'recordDate': '2016-11-10', 'declaredDate': '2016-10-25', 'amount': 1.4}, {'ticker': 'IBM', 'exDate': '2016-08-08', 'paymentDate': '2016-09-10', 'recordDate': '2016-08-10', 'declaredDate': '2016-07-26', 'amount': 1.4}, {'ticker': 'IBM', 'exDate': '2016-05-06', 'paymentDate': '2016-06-10', 'recordDate': '2016-05-10', 'declaredDate': '2016-04-26', 'amount': 1.4}, {'ticker': 'IBM', 'exDate': '2016-02-08', 'paymentDate': '2016-03-10', 'recordDate': '2016-02-10', 'declaredDate': '2016-01-26', 'amount': 1.3}, {'ticker': 'IBM', 'exDate': '2015-11-06', 'paymentDate': '2015-12-10', 'recordDate': '2015-11-10', 'declaredDate': '2015-10-27', 'amount': 1.3}, {'ticker': 'IBM', 'exDate': '2015-08-06', 'paymentDate': '2015-09-10', 'recordDate': '2015-08-10', 'declaredDate': '2015-07-28', 'amount': 1.3}, {'ticker': 'IBM', 'exDate': '2015-05-06', 'paymentDate': '2015-06-10', 'recordDate': '2015-05-08', 'declaredDate': '2015-04-28', 'amount': 1.3}, {'ticker': 'IBM', 'exDate': '2015-02-06', 'paymentDate': '2015-03-10', 'recordDate': '2015-02-10', 'declaredDate': '2015-01-27', 'amount': 1.1}, {'ticker': 'IBM', 'exDate': '2014-11-06', 'paymentDate': '2014-12-10', 'recordDate': '2014-11-10', 'declaredDate': '2014-10-28', 'amount': 1.1}, {'ticker': 'IBM', 'exDate': '2014-08-06', 'paymentDate': '2014-09-10', 'recordDate': '2014-08-08', 'declaredDate': '2014-07-29', 'amount': 1.1}, {'ticker': 'IBM', 'exDate': '2014-05-07', 'paymentDate': '2014-06-10', 'recordDate': '2014-05-09', 'declaredDate': '2014-04-29', 'amount': 1.1}, {'ticker': 'IBM', 'exDate': '2014-02-06', 'paymentDate': '2014-03-10', 'recordDate': '2014-02-10', 'declaredDate': '2014-01-28', 'amount': 0.95}, {'ticker': 'IBM', 'exDate': '2013-11-06', 'paymentDate': '2013-12-10', 'recordDate': '2013-11-08', 'declaredDate': '2013-10-29', 'amount': 0.95}, {'ticker': 'IBM', 'exDate': '2013-08-07', 'paymentDate': '2013-09-10', 'recordDate': '2013-08-09', 'declaredDate': '2013-07-30', 'amount': 0.95}]\n",
      "{'ticker': 'IBM', 'exDate': '2021-08-09', 'paymentDate': '2021-09-10', 'recordDate': '2021-08-10', 'amount': 1.64}\n",
      "1.64\n",
      "{'ticker': 'IBM', 'exDate': '2021-05-07', 'paymentDate': '2021-06-10', 'recordDate': '2018-05-06', 'declaredDate': '2021-04-27', 'amount': 1.64}\n",
      "1.64\n",
      "{'ticker': 'IBM', 'exDate': '2021-02-09', 'paymentDate': '2021-03-10', 'recordDate': '2021-02-10', 'amount': 1.63}\n",
      "1.63\n"
     ]
    }
   ],
   "source": [
    "\n",
    "\n",
    "def main():\n",
    "    key = api_key2\n",
    "\n",
    "    # RESTClient can be used as a context manager to facilitate closing the underlying http session\n",
    "    # https://requests.readthedocs.io/en/master/user/advanced/#session-objects\n",
    "    with RESTClient(key) as client:\n",
    "        symbol = \"IBM\"\n",
    "        resp = client.reference_stock_dividends(symbol=symbol)\n",
    "        print(resp.count)\n",
    "        print(resp.results)\n",
    "        for i in range(3):\n",
    "            print(resp.results[i])\n",
    "            print(resp.results[i].get('amount'))\n",
    "\n",
    "\n",
    "if __name__ == '__main__':\n",
    "    main()"
   ]
  },
  {
   "cell_type": "code",
   "execution_count": null,
   "id": "7e1cc854",
   "metadata": {},
   "outputs": [],
   "source": [
    "stock_list = finnhub_client.stock_symbols('US')\n",
    "len(stock_list)"
   ]
  },
  {
   "cell_type": "code",
   "execution_count": null,
   "id": "09e9a9b3",
   "metadata": {},
   "outputs": [],
   "source": [
    "stock_list"
   ]
  },
  {
   "cell_type": "code",
   "execution_count": null,
   "id": "dfd06e39",
   "metadata": {},
   "outputs": [],
   "source": [
    "connection = psycopg2.connect(host=host2, database=database2, user=user2, password=password2)"
   ]
  },
  {
   "cell_type": "code",
   "execution_count": null,
   "id": "8dbf2968",
   "metadata": {},
   "outputs": [],
   "source": [
    "cursor = connection.cursor(cursor_factory=psycopg2.extras.DictCursor)"
   ]
  },
  {
   "cell_type": "code",
   "execution_count": null,
   "id": "216892e0",
   "metadata": {},
   "outputs": [],
   "source": [
    "for stock in stock_list:\n",
    "    \n",
    "    print(f\"Inserting stock {stock.get('description')} {stock.get('symbol')}\")\n",
    "    cursor.execute(\"\"\"\n",
    "        INSERT INTO stock_sql (description, symbol, figi, type) \n",
    "        VALUES (%s, %s, %s, %s)\n",
    "    \"\"\", (stock.get('description'), stock.get('symbol'), stock.get('figi'), stock.get('type')))\n",
    "\n",
    "connection.commit()"
   ]
  },
  {
   "cell_type": "code",
   "execution_count": null,
   "id": "1fc88896",
   "metadata": {},
   "outputs": [],
   "source": []
  }
 ],
 "metadata": {
  "kernelspec": {
   "display_name": "Python 3 (ipykernel)",
   "language": "python",
   "name": "python3"
  },
  "language_info": {
   "codemirror_mode": {
    "name": "ipython",
    "version": 3
   },
   "file_extension": ".py",
   "mimetype": "text/x-python",
   "name": "python",
   "nbconvert_exporter": "python",
   "pygments_lexer": "ipython3",
   "version": "3.9.6"
  }
 },
 "nbformat": 4,
 "nbformat_minor": 5
}

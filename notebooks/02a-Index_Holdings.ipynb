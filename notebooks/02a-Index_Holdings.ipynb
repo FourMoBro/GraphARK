{
 "cells": [
  {
   "cell_type": "code",
   "execution_count": 1,
   "id": "377333e9",
   "metadata": {},
   "outputs": [],
   "source": [
    "import os\n",
    "from datetime import datetime\n",
    "import finnhub\n",
    "import psycopg2\n",
    "import psycopg2.extras\n",
    "from dotenv import load_dotenv, find_dotenv"
   ]
  },
  {
   "cell_type": "code",
   "execution_count": 2,
   "id": "e4bf9157",
   "metadata": {},
   "outputs": [
    {
     "data": {
      "text/plain": [
       "True"
      ]
     },
     "execution_count": 2,
     "metadata": {},
     "output_type": "execute_result"
    }
   ],
   "source": [
    "load_dotenv(find_dotenv())"
   ]
  },
  {
   "cell_type": "code",
   "execution_count": 3,
   "id": "30e3647e",
   "metadata": {},
   "outputs": [],
   "source": [
    "api_key2 = os.environ.get(\"FINNHUB_API_KEY\")\n",
    "host2 = os.environ.get(\"DB_HOST\")\n",
    "database2 = os.environ.get(\"DB_NAME\")\n",
    "user2 = os.environ.get(\"DB_USER\")\n",
    "password2 = os.environ.get(\"DB_PASSWORD\")"
   ]
  },
  {
   "cell_type": "code",
   "execution_count": 4,
   "id": "59348351",
   "metadata": {},
   "outputs": [],
   "source": [
    "today = datetime.today().strftime('%Y-%m-%d')\n",
    "finnhub_client = finnhub.Client(api_key=api_key2)"
   ]
  },
  {
   "cell_type": "raw",
   "id": "f146004d",
   "metadata": {},
   "source": [
    "c_dict = finnhub_client.indices_const(symbol = \"^RUA\")\n",
    "c_dict"
   ]
  },
  {
   "cell_type": "raw",
   "id": "cf1d7dea",
   "metadata": {},
   "source": [
    "c_list = c_dict.get('constituents')\n",
    "c_list[0]"
   ]
  },
  {
   "cell_type": "code",
   "execution_count": 5,
   "id": "29edb3f9",
   "metadata": {},
   "outputs": [],
   "source": [
    "connection = psycopg2.connect(host=host2, database=database2, user=user2, password=password2)\n",
    "cursor = connection.cursor(cursor_factory=psycopg2.extras.DictCursor)"
   ]
  },
  {
   "cell_type": "code",
   "execution_count": 6,
   "id": "15b345e9",
   "metadata": {},
   "outputs": [
    {
     "data": {
      "text/plain": [
       "[['^GSPC', 'S&P 500', 1],\n",
       " ['^NDX', 'Nasdaq 100', 2],\n",
       " ['^DJI', 'Dow Jones Industrial Average', 3],\n",
       " ['^SP500-50', 'S&P Communication Services Select Sector', 4],\n",
       " ['^SP500-25', 'S&P Consumer Discretionary Select Sector', 5],\n",
       " ['^SP500-30', 'S&P Consumer Staples Select Sector', 6],\n",
       " ['^GSPE', 'S&P Energy Select Sector', 7],\n",
       " ['^SP500-40', 'S&P Financial Select Sector', 8],\n",
       " ['^SP500-35', 'S&P Health Care Select Sector', 9],\n",
       " ['^SP500-20', 'S&P Industrial Select Sector', 10],\n",
       " ['^SP500-15', 'S&P Materials Select Sector', 11],\n",
       " ['^SP500-60', 'S&P Real Estate Select Sector', 12],\n",
       " ['^SP500-45', 'S&P Technology Select Sector', 13],\n",
       " ['^SP500-55', 'S&P Utilities Select Sector', 14],\n",
       " ['^MID', 'S&P Mid-Cap 400', 15],\n",
       " ['^SP600', 'S&P SmallCap 600', 16],\n",
       " ['^OEX', 'S&P 100', 17],\n",
       " ['^RUI', 'Russell 1000', 18],\n",
       " ['^RUT', 'Russell 2000', 19],\n",
       " ['^R25I', 'Russell 2500', 20],\n",
       " ['^RUA', 'Russell 3000', 21],\n",
       " ['^RUMIC', 'Russell Microcap', 22],\n",
       " ['^RMCC', 'Russell Midcap', 23],\n",
       " ['^RT200', 'Russell Top 200', 24],\n",
       " ['^NDUEEGF', 'MSCI Emerging Market', 25],\n",
       " ['^NR736471', 'MSCI Frontier and Select EM', 26],\n",
       " ['^NDUEACWF', 'MSCI All Country World (ACWI)', 27],\n",
       " ['^NDDUEAFE', 'MSCI EAFE Index', 28],\n",
       " ['^M7CN', 'MSCI China Index', 29],\n",
       " ['^NDDUEMU', 'MSCI Europe', 30],\n",
       " ['^STOXX50E', 'Euro Stoxx 50', 31],\n",
       " ['^STOXX', 'Euro Stoxx 600', 32],\n",
       " ['^GDAXI', 'DAX', 33],\n",
       " ['^AXJO', 'S&P/ASX 200', 34],\n",
       " ['TX60.TS', 'S&P/TSX 60', 35],\n",
       " ['^FTSE', 'FTSE 100', 36]]"
      ]
     },
     "execution_count": 6,
     "metadata": {},
     "output_type": "execute_result"
    }
   ],
   "source": [
    "# Get all index_ids\n",
    "cursor.execute(\"\"\"SELECT * from indices\"\"\")\n",
    "rows = cursor.fetchall()\n",
    "rows"
   ]
  },
  {
   "cell_type": "code",
   "execution_count": 7,
   "id": "1489ef3f",
   "metadata": {},
   "outputs": [
    {
     "name": "stdout",
     "output_type": "stream",
     "text": [
      "^GSPC\n",
      "^NDX\n",
      "^DJI\n",
      "^SP500-50\n",
      "^SP500-25\n",
      "^SP500-30\n",
      "^GSPE\n",
      "^SP500-40\n",
      "^SP500-35\n",
      "^SP500-20\n",
      "^SP500-15\n",
      "^SP500-60\n",
      "^SP500-45\n",
      "^SP500-55\n",
      "^MID\n",
      "^SP600\n",
      "^OEX\n",
      "^RUI\n",
      "^RUT\n",
      "^R25I\n",
      "^RUA\n",
      "^RUMIC\n",
      "^RMCC\n",
      "^RT200\n",
      "^NDUEEGF\n",
      "^NR736471\n",
      "^NDUEACWF\n",
      "^NDDUEAFE\n",
      "^M7CN\n",
      "^NDDUEMU\n",
      "^STOXX50E\n",
      "^STOXX\n",
      "^GDAXI\n",
      "^AXJO\n",
      "TX60.TS\n",
      "^FTSE\n"
     ]
    }
   ],
   "source": [
    "for index in rows:\n",
    "    print(index['symbol'])\n",
    "    c_dict = finnhub_client.indices_const(symbol = {index['symbol']})\n",
    "    c_list2 = c_dict.get('constituents')\n",
    "    c_list = list(set(c_list2))\n",
    "    for c in c_list:\n",
    "        cursor.execute(\"\"\"\n",
    "                    SELECT * FROM tickers WHERE symbol = %s\n",
    "                \"\"\", (c,))\n",
    "        stock = cursor.fetchone()\n",
    "        try:\n",
    "            if stock:\n",
    "                cursor.execute(\"\"\"\n",
    "                        INSERT INTO index_holdings (index_id, holding_id, dt)\n",
    "                        VALUES (%s, %s, %s)\n",
    "                    \"\"\", (index['id'], stock['id'], today))\n",
    "        except Exception as e:\n",
    "            print(e)\n",
    "            pass"
   ]
  },
  {
   "cell_type": "code",
   "execution_count": 8,
   "id": "b329371e",
   "metadata": {},
   "outputs": [],
   "source": [
    "connection.commit()"
   ]
  },
  {
   "cell_type": "code",
   "execution_count": null,
   "id": "47a333ee",
   "metadata": {},
   "outputs": [],
   "source": []
  }
 ],
 "metadata": {
  "kernelspec": {
   "display_name": "Python 3 (ipykernel)",
   "language": "python",
   "name": "python3"
  },
  "language_info": {
   "codemirror_mode": {
    "name": "ipython",
    "version": 3
   },
   "file_extension": ".py",
   "mimetype": "text/x-python",
   "name": "python",
   "nbconvert_exporter": "python",
   "pygments_lexer": "ipython3",
   "version": "3.9.6"
  }
 },
 "nbformat": 4,
 "nbformat_minor": 5
}

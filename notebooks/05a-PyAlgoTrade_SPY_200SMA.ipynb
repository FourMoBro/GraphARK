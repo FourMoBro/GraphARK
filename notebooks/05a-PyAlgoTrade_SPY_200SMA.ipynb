{
 "cells": [
  {
   "cell_type": "code",
   "execution_count": 1,
   "id": "262f7422",
   "metadata": {},
   "outputs": [],
   "source": [
    "import pandas\n",
    "import pandas_market_calendars as market_calendar\n",
    "\n",
    "import yfinance\n",
    "\n",
    "from pyalgotrade import strategy\n",
    "from pyalgotrade.barfeed import yahoofeed\n",
    "from pyalgotrade.technical import ma\n",
    "from pyalgotrade import plotter\n",
    "from pyalgotrade.stratanalyzer import returns, drawdown, trades"
   ]
  },
  {
   "cell_type": "code",
   "execution_count": 2,
   "id": "9307c6c2",
   "metadata": {},
   "outputs": [
    {
     "name": "stdout",
     "output_type": "stream",
     "text": [
      "[*********************100%***********************]  1 of 1 completed\n"
     ]
    }
   ],
   "source": [
    "data = yfinance.download(\"SPY\", start=\"1993-06-01\", end=\"2021-08-12\")\n",
    "data.to_csv(\"spy.csv\")"
   ]
  },
  {
   "cell_type": "code",
   "execution_count": 3,
   "id": "5edc4029",
   "metadata": {},
   "outputs": [],
   "source": [
    "# get last days of month\n",
    "nyse = market_calendar.get_calendar('NYSE')\n",
    "df = nyse.schedule(start_date='1980-01-01', end_date='2021-12-31')\n",
    "df = df.groupby(df.index.strftime('%Y-%m')).tail(1)\n",
    "df['date'] = pandas.to_datetime(df['market_open']).dt.date\n",
    "last_days_of_month = [date.isoformat() for date in df['date'].tolist()]"
   ]
  },
  {
   "cell_type": "code",
   "execution_count": 4,
   "id": "d001ce42",
   "metadata": {},
   "outputs": [],
   "source": [
    "class MovingAverageStrategy(strategy.BacktestingStrategy):\n",
    "    def __init__(self, feed, instrument):\n",
    "        super(MovingAverageStrategy, self).__init__(feed)\n",
    "        self.instrument = instrument\n",
    "        self.position = None\n",
    "        self.ma = ma.SMA(feed[instrument].getAdjCloseDataSeries(), 200)\n",
    "        self.setUseAdjustedValues(True)\n",
    "\n",
    "    def onEnterOk(self, position):\n",
    "        execInfo = position.getEntryOrder().getExecutionInfo()\n",
    "        self.info(f\"===== BUY at {execInfo.getPrice()} {execInfo.getQuantity()} =====\")\n",
    "\n",
    "    def onExitOk(self, position):\n",
    "        execInfo = position.getExitOrder().getExecutionInfo()\n",
    "        self.info(f\"===== SELL at {execInfo.getPrice()} =====\")\n",
    "        self.position = None\n",
    "    \n",
    "    def onBars(self, bars):\n",
    "        if self.ma[-1] is None:\n",
    "            return\n",
    "\n",
    "        bar = bars[self.instrument]\n",
    "        close = bar.getAdjClose()\n",
    "        date = bar.getDateTime().date().isoformat()\n",
    "\n",
    "        if date in last_days_of_month:\n",
    "            if self.position is None:\n",
    "                broker = self.getBroker()\n",
    "                cash = broker.getCash() * .98\n",
    "                \n",
    "                if date in last_days_of_month and close > self.ma[-1]:\n",
    "                    quantity = cash / close\n",
    "                    self.info(f\"buying at {close}, which is above {self.ma[-1]}\")\n",
    "                    self.position = self.enterLong(self.instrument, quantity)\n",
    "            \n",
    "            elif close < self.ma[-1] and self.position is not None:\n",
    "                self.info(f\"selling at {close}, which is below {self.ma[-1]}\")\n",
    "                self.position.exitMarket()\n",
    "                self.position = None"
   ]
  },
  {
   "cell_type": "code",
   "execution_count": 5,
   "id": "c602af74",
   "metadata": {},
   "outputs": [],
   "source": [
    "# # Load the bar feed from the CSV file\n",
    "feed = yahoofeed.Feed()\n",
    "feed.addBarsFromCSV(\"spy\", \"spy.csv\")\n",
    "\n",
    "strategy = MovingAverageStrategy(feed, \"spy\")\n",
    "\n",
    "returnsAnalyzer = returns.Returns()\n",
    "tradesAnalyzer = trades.Trades()\n",
    "drawDownAnalyzer = drawdown.DrawDown()\n",
    "\n",
    "strategy.attachAnalyzer(returnsAnalyzer)\n",
    "strategy.attachAnalyzer(drawDownAnalyzer)\n",
    "strategy.attachAnalyzer(tradesAnalyzer)\n",
    "\n",
    "plt = plotter.StrategyPlotter(strategy) \n",
    "plt.getInstrumentSubplot(\"spy\").addDataSeries(\"200 day\", strategy.ma)\n",
    "\n"
   ]
  },
  {
   "cell_type": "code",
   "execution_count": 6,
   "id": "ad0a79ec",
   "metadata": {},
   "outputs": [
    {
     "name": "stderr",
     "output_type": "stream",
     "text": [
      "1994-07-29 00:00:00 strategy [INFO] buying at 27.976030349731445, which is above 27.83332347869872\n",
      "1994-08-01 00:00:00 strategy [INFO] ===== BUY at 27.995063657683087 35029 =====\n",
      "1994-11-30 00:00:00 strategy [INFO] selling at 27.954578399658203, which is below 27.981696281433116\n",
      "1994-12-01 00:00:00 strategy [INFO] ===== SELL at 27.98331933897975 =====\n",
      "1994-12-30 00:00:00 strategy [INFO] buying at 28.15813446044922, which is above 27.967738552093525\n",
      "1995-01-03 00:00:00 strategy [INFO] ===== BUY at 28.245056627553478 34789 =====\n",
      "1998-08-31 00:00:00 strategy [INFO] selling at 63.24270248413086, which is below 69.61891290664683\n",
      "1998-09-01 00:00:00 strategy [INFO] ===== SELL at 63.283849093111364 =====\n",
      "1998-10-30 00:00:00 strategy [INFO] buying at 72.72154998779297, which is above 70.7704542922975\n",
      "1998-11-02 00:00:00 strategy [INFO] ===== BUY at 73.25866632727937 29897 =====\n",
      "1999-09-30 00:00:00 strategy [INFO] selling at 86.1073989868164, which is below 86.96107128143323\n",
      "1999-10-01 00:00:00 strategy [INFO] ===== SELL at 85.56401395693338 =====\n",
      "1999-10-29 00:00:00 strategy [INFO] buying at 91.62495422363281, which is above 87.56647670745863\n",
      "1999-11-01 00:00:00 strategy [INFO] ===== BUY at 91.29060830186182 27664 =====\n",
      "2000-09-29 00:00:00 strategy [INFO] selling at 97.00663757324219, which is below 97.48149185180672\n",
      "2000-10-02 00:00:00 strategy [INFO] ===== SELL at 97.44991359341904 =====\n",
      "2002-03-28 00:00:00 strategy [INFO] buying at 78.8032455444336, which is above 78.29599021911625\n",
      "2002-04-01 00:00:00 strategy [INFO] ===== BUY at 78.60366616071875 34284 =====\n",
      "2002-04-30 00:00:00 strategy [INFO] selling at 74.22039031982422, which is below 77.52223186492928\n",
      "2002-05-01 00:00:00 strategy [INFO] ===== SELL at 74.29605572886177 =====\n",
      "2003-04-30 00:00:00 strategy [INFO] buying at 64.32231903076172, which is above 61.33686864852915\n",
      "2003-05-01 00:00:00 strategy [INFO] ===== BUY at 64.32934785649427 39752 =====\n",
      "2007-12-31 00:00:00 strategy [INFO] selling at 111.42516326904297, which is below 112.57500469207781\n",
      "2008-01-02 00:00:00 strategy [INFO] ===== SELL at 111.66904035383217 =====\n",
      "2009-05-29 00:00:00 strategy [INFO] buying at 72.7303466796875, which is above 72.35618940353415\n",
      "2009-06-01 00:00:00 strategy [INFO] ===== BUY at 73.62639293550058 60513 =====\n",
      "2010-05-28 00:00:00 strategy [INFO] selling at 87.69158935546875, which is below 88.23144332885754\n",
      "2010-06-01 00:00:00 strategy [INFO] ===== SELL at 86.8737441090363 =====\n",
      "2010-09-30 00:00:00 strategy [INFO] buying at 92.43567657470703, which is above 89.84831085205087\n",
      "2010-10-01 00:00:00 strategy [INFO] ===== BUY at 93.13220574769177 56112 =====\n",
      "2011-08-31 00:00:00 strategy [INFO] selling at 100.4362564086914, which is below 105.01491260528577\n",
      "2011-09-01 00:00:00 strategy [INFO] ===== SELL at 100.49379016857397 =====\n",
      "2011-12-30 00:00:00 strategy [INFO] buying at 104.32268524169922, which is above 103.64113037109387\n",
      "2012-01-03 00:00:00 strategy [INFO] ===== BUY at 106.2013274306267 53599 =====\n",
      "2015-08-31 00:00:00 strategy [INFO] selling at 176.33123779296875, which is below 184.0362771606446\n",
      "2015-09-01 00:00:00 strategy [INFO] ===== SELL at 172.27238770151322 =====\n",
      "2015-10-30 00:00:00 strategy [INFO] buying at 186.44796752929688, which is above 183.45175941467286\n",
      "2015-11-02 00:00:00 strategy [INFO] ===== BUY at 186.7976752792624 48603 =====\n",
      "2015-12-31 00:00:00 strategy [INFO] selling at 183.89537048339844, which is below 184.0434106445312\n",
      "2016-01-04 00:00:00 strategy [INFO] ===== SELL at 180.84654452628425 =====\n",
      "2016-03-31 00:00:00 strategy [INFO] buying at 186.3398895263672, which is above 180.93192695617682\n",
      "2016-04-01 00:00:00 strategy [INFO] ===== BUY at 185.2790292376063 47110 =====\n",
      "2018-10-31 00:00:00 strategy [INFO] selling at 257.5290222167969, which is below 261.05595260620163\n",
      "2018-11-01 00:00:00 strategy [INFO] ===== SELL at 258.4520807935222 =====\n",
      "2018-11-30 00:00:00 strategy [INFO] buying at 262.3059997558594, which is above 261.1186184692388\n",
      "2018-12-03 00:00:00 strategy [INFO] ===== BUY at 266.7118356819919 46346 =====\n",
      "2018-12-31 00:00:00 strategy [INFO] selling at 239.2103729248047, which is below 259.96318084716864\n",
      "2019-01-02 00:00:00 strategy [INFO] ===== SELL at 235.43921069470588 =====\n",
      "2019-02-28 00:00:00 strategy [INFO] buying at 266.73785400390625, which is above 261.0366542816168\n",
      "2019-03-01 00:00:00 strategy [INFO] ===== BUY at 268.42254430661677 40251 =====\n",
      "2019-05-31 00:00:00 strategy [INFO] selling at 264.6346130371094, which is below 264.8455901336676\n",
      "2019-06-03 00:00:00 strategy [INFO] ===== SELL at 264.673069757185 =====\n",
      "2019-06-28 00:00:00 strategy [INFO] buying at 283.049560546875, which is above 265.43431068420466\n",
      "2019-07-01 00:00:00 strategy [INFO] ===== BUY at 286.6045818202502 37409 =====\n",
      "2020-02-28 00:00:00 strategy [INFO] selling at 288.9341735839844, which is below 295.0123077392581\n",
      "2020-03-02 00:00:00 strategy [INFO] ===== SELL at 290.83590301482917 =====\n",
      "2020-05-29 00:00:00 strategy [INFO] buying at 298.54010009765625, which is above 291.9367572784425\n",
      "2020-06-01 00:00:00 strategy [INFO] ===== BUY at 297.85336760469585 35987 =====\n"
     ]
    }
   ],
   "source": [
    "strategy.run()"
   ]
  },
  {
   "cell_type": "code",
   "execution_count": 7,
   "id": "771631fd",
   "metadata": {},
   "outputs": [
    {
     "data": {
      "image/png": "[encoded data removed]",
      "text/plain": [
       "<Figure size 432x288 with 2 Axes>"
      ]
     },
     "metadata": {
      "needs_background": "light"
     },
     "output_type": "display_data"
    },
    {
     "name": "stdout",
     "output_type": "stream",
     "text": [
      "Final portfolio value: $16214465.09\n",
      "Cumulative returns: 1521.45 %\n",
      "Max. drawdown: 22.44 %\n",
      "Longest drawdown duration: 1253 days, 0:00:00\n",
      "\n",
      "Total trades: 14\n",
      "Avg. profit: $711643\n",
      "Profits std. dev.: $1352059\n",
      "Max. profit: $3541343\n",
      "Min. profit: $-1449361\n",
      "Avg. return: 23 %\n",
      "Returns std. dev.: 37 %\n",
      "Max. return: 124 %\n",
      "Min. return: -12 %\n",
      "\n",
      "Profitable trades: 9\n",
      "Avg. profit: $1333402\n",
      "Profits std. dev.: $1267212\n",
      "Max. profit: $3541343\n",
      "Min. profit: $158289\n",
      "Avg. return: 39 %\n",
      "Returns std. dev.: 38 %\n",
      "Max. return: 124 %\n",
      "Min. return:  1 %\n",
      "\n",
      "Unprofitable trades: 5\n",
      "Avg. loss: $-407523\n",
      "Losses std. dev.: $528870\n",
      "Max. loss: $-1449361\n",
      "Min. loss: $-411\n",
      "Avg. return: -4 %\n",
      "Returns std. dev.:  4 %\n",
      "Max. return: -0 %\n",
      "Min. return: -12 %\n"
     ]
    }
   ],
   "source": [
    "plt.plot()\n",
    "\n",
    "print(\"Final portfolio value: $%.2f\" % strategy.getResult())\n",
    "print(\"Cumulative returns: %.2f %%\" % (returnsAnalyzer.getCumulativeReturns()[-1] * 100))\n",
    "print(\"Max. drawdown: %.2f %%\" % (drawDownAnalyzer.getMaxDrawDown() * 100))\n",
    "print(\"Longest drawdown duration: %s\" % (drawDownAnalyzer.getLongestDrawDownDuration()))\n",
    "\n",
    "print(\"\")\n",
    "print(\"Total trades: %d\" % (tradesAnalyzer.getCount()))\n",
    "if tradesAnalyzer.getCount() > 0:\n",
    "    profits = tradesAnalyzer.getAll()\n",
    "    print(\"Avg. profit: $%2.f\" % (profits.mean()))\n",
    "    print(\"Profits std. dev.: $%2.f\" % (profits.std()))\n",
    "    print(\"Max. profit: $%2.f\" % (profits.max()))\n",
    "    print(\"Min. profit: $%2.f\" % (profits.min()))\n",
    "    returns = tradesAnalyzer.getAllReturns()\n",
    "    print(\"Avg. return: %2.f %%\" % (returns.mean() * 100))\n",
    "    print(\"Returns std. dev.: %2.f %%\" % (returns.std() * 100))\n",
    "    print(\"Max. return: %2.f %%\" % (returns.max() * 100))\n",
    "    print(\"Min. return: %2.f %%\" % (returns.min() * 100))\n",
    "\n",
    "print(\"\")\n",
    "print(\"Profitable trades: %d\" % (tradesAnalyzer.getProfitableCount()))\n",
    "if tradesAnalyzer.getProfitableCount() > 0:\n",
    "    profits = tradesAnalyzer.getProfits()\n",
    "    print(\"Avg. profit: $%2.f\" % (profits.mean()))\n",
    "    print(\"Profits std. dev.: $%2.f\" % (profits.std()))\n",
    "    print(\"Max. profit: $%2.f\" % (profits.max()))\n",
    "    print(\"Min. profit: $%2.f\" % (profits.min()))\n",
    "    returns = tradesAnalyzer.getPositiveReturns()\n",
    "    print(\"Avg. return: %2.f %%\" % (returns.mean() * 100))\n",
    "    print(\"Returns std. dev.: %2.f %%\" % (returns.std() * 100))\n",
    "    print(\"Max. return: %2.f %%\" % (returns.max() * 100))\n",
    "    print(\"Min. return: %2.f %%\" % (returns.min() * 100))\n",
    "\n",
    "print(\"\")\n",
    "print(\"Unprofitable trades: %d\" % (tradesAnalyzer.getUnprofitableCount()))\n",
    "if tradesAnalyzer.getUnprofitableCount() > 0:\n",
    "    losses = tradesAnalyzer.getLosses()\n",
    "    print(\"Avg. loss: $%2.f\" % (losses.mean()))\n",
    "    print(\"Losses std. dev.: $%2.f\" % (losses.std()))\n",
    "    print(\"Max. loss: $%2.f\" % (losses.min()))\n",
    "    print(\"Min. loss: $%2.f\" % (losses.max()))\n",
    "    returns = tradesAnalyzer.getNegativeReturns()\n",
    "    print(\"Avg. return: %2.f %%\" % (returns.mean() * 100))\n",
    "    print(\"Returns std. dev.: %2.f %%\" % (returns.std() * 100))\n",
    "    print(\"Max. return: %2.f %%\" % (returns.max() * 100))\n",
    "    print(\"Min. return: %2.f %%\" % (returns.min() * 100))"
   ]
  },
  {
   "cell_type": "code",
   "execution_count": null,
   "id": "1d9477cf",
   "metadata": {},
   "outputs": [],
   "source": []
  }
 ],
 "metadata": {
  "kernelspec": {
   "display_name": "Python 3 (ipykernel)",
   "language": "python",
   "name": "python3"
  },
  "language_info": {
   "codemirror_mode": {
    "name": "ipython",
    "version": 3
   },
   "file_extension": ".py",
   "mimetype": "text/x-python",
   "name": "python",
   "nbconvert_exporter": "python",
   "pygments_lexer": "ipython3",
   "version": "3.9.6"
  }
 },
 "nbformat": 4,
 "nbformat_minor": 5
}

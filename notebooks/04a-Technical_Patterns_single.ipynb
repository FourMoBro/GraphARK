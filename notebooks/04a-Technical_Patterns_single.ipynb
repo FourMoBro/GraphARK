{
 "cells": [
  {
   "cell_type": "code",
   "execution_count": 1,
   "id": "f14df710",
   "metadata": {},
   "outputs": [],
   "source": [
    "#Load initial libraries\n",
    "import os\n",
    "from dotenv import load_dotenv, find_dotenv"
   ]
  },
  {
   "cell_type": "code",
   "execution_count": 2,
   "id": "96fc186d",
   "metadata": {},
   "outputs": [],
   "source": [
    "#Get environment variables\n",
    "pg_url2 = os.environ.get(\"PG_URL\")"
   ]
  },
  {
   "cell_type": "code",
   "execution_count": 3,
   "id": "9a1028c2",
   "metadata": {},
   "outputs": [],
   "source": [
    "#connect to database\n",
    "from sqlalchemy import create_engine\n",
    "engine = create_engine(pg_url2)"
   ]
  },
  {
   "cell_type": "markdown",
   "id": "b2197bd5",
   "metadata": {},
   "source": [
    "#Define a function to connect to the database. This was normally done with a one liner, and the example used a dict. \n",
    "#I ignored using the dict\n",
    "def connect(host2, database2, user2, password2):\n",
    "    \"\"\" Connect to the PostgreSQL database server \"\"\"\n",
    "    conn = None\n",
    "    try:\n",
    "        # connect to the PostgreSQL server\n",
    "        print('Connecting to the PostgreSQL database...')\n",
    "        conn = psycopg2.connect(host=host2, database=database2, user=user2, password=password2)\n",
    "    except (Exception, psycopg2.DatabaseError) as error:\n",
    "        print(error)\n",
    "        sys.exit(1) \n",
    "    print(\"Connection successful\")\n",
    "    return conn\n",
    "\n",
    "conn = connect(host2, database2, user2, password2)"
   ]
  },
  {
   "cell_type": "code",
   "execution_count": 17,
   "id": "090514be",
   "metadata": {},
   "outputs": [
    {
     "data": {
      "text/html": [
       "<div>\n",
       "<style scoped>\n",
       "    .dataframe tbody tr th:only-of-type {\n",
       "        vertical-align: middle;\n",
       "    }\n",
       "\n",
       "    .dataframe tbody tr th {\n",
       "        vertical-align: top;\n",
       "    }\n",
       "\n",
       "    .dataframe thead th {\n",
       "        text-align: right;\n",
       "    }\n",
       "</style>\n",
       "<table border=\"1\" class=\"dataframe\">\n",
       "  <thead>\n",
       "    <tr style=\"text-align: right;\">\n",
       "      <th></th>\n",
       "      <th>stock_id</th>\n",
       "      <th>dt</th>\n",
       "      <th>open</th>\n",
       "      <th>high</th>\n",
       "      <th>low</th>\n",
       "      <th>close</th>\n",
       "      <th>volume</th>\n",
       "    </tr>\n",
       "  </thead>\n",
       "  <tbody>\n",
       "    <tr>\n",
       "      <th>5671</th>\n",
       "      <td>16216</td>\n",
       "      <td>2021-08-04</td>\n",
       "      <td>199.90</td>\n",
       "      <td>203.18</td>\n",
       "      <td>198.28</td>\n",
       "      <td>202.74</td>\n",
       "      <td>23130900.0</td>\n",
       "    </tr>\n",
       "    <tr>\n",
       "      <th>5672</th>\n",
       "      <td>16216</td>\n",
       "      <td>2021-08-05</td>\n",
       "      <td>205.00</td>\n",
       "      <td>207.33</td>\n",
       "      <td>203.42</td>\n",
       "      <td>206.37</td>\n",
       "      <td>21143500.0</td>\n",
       "    </tr>\n",
       "    <tr>\n",
       "      <th>5673</th>\n",
       "      <td>16216</td>\n",
       "      <td>2021-08-06</td>\n",
       "      <td>205.24</td>\n",
       "      <td>205.70</td>\n",
       "      <td>202.10</td>\n",
       "      <td>203.66</td>\n",
       "      <td>17825500.0</td>\n",
       "    </tr>\n",
       "    <tr>\n",
       "      <th>5674</th>\n",
       "      <td>16216</td>\n",
       "      <td>2021-08-09</td>\n",
       "      <td>204.46</td>\n",
       "      <td>205.08</td>\n",
       "      <td>201.43</td>\n",
       "      <td>202.95</td>\n",
       "      <td>14644300.0</td>\n",
       "    </tr>\n",
       "    <tr>\n",
       "      <th>5675</th>\n",
       "      <td>16216</td>\n",
       "      <td>2021-08-10</td>\n",
       "      <td>203.22</td>\n",
       "      <td>204.30</td>\n",
       "      <td>198.35</td>\n",
       "      <td>199.36</td>\n",
       "      <td>17880452.0</td>\n",
       "    </tr>\n",
       "  </tbody>\n",
       "</table>\n",
       "</div>"
      ],
      "text/plain": [
       "      stock_id         dt    open    high     low   close      volume\n",
       "5671     16216 2021-08-04  199.90  203.18  198.28  202.74  23130900.0\n",
       "5672     16216 2021-08-05  205.00  207.33  203.42  206.37  21143500.0\n",
       "5673     16216 2021-08-06  205.24  205.70  202.10  203.66  17825500.0\n",
       "5674     16216 2021-08-09  204.46  205.08  201.43  202.95  14644300.0\n",
       "5675     16216 2021-08-10  203.22  204.30  198.35  199.36  17880452.0"
      ]
     },
     "execution_count": 17,
     "metadata": {},
     "output_type": "execute_result"
    }
   ],
   "source": [
    "#query database and load price dataframe \"AAPL\"\n",
    "import pandas as pd\n",
    "query = \"\"\"\n",
    "    select * from stock_prices where stock_id = 16216\n",
    "\"\"\"\n",
    "df = pd.read_sql_query(query, engine)\n",
    "df.tail()"
   ]
  },
  {
   "cell_type": "code",
   "execution_count": 1,
   "id": "a35b6e2e",
   "metadata": {},
   "outputs": [
    {
     "ename": "ModuleNotFoundError",
     "evalue": "No module named 'talib'",
     "output_type": "error",
     "traceback": [
      "\u001b[0;31m---------------------------------------------------------------------------\u001b[0m",
      "\u001b[0;31mModuleNotFoundError\u001b[0m                       Traceback (most recent call last)",
      "\u001b[0;32m/tmp/ipykernel_27/3351785735.py\u001b[0m in \u001b[0;36m<module>\u001b[0;34m\u001b[0m\n\u001b[0;32m----> 1\u001b[0;31m \u001b[0;32mimport\u001b[0m \u001b[0mtalib\u001b[0m\u001b[0;34m\u001b[0m\u001b[0;34m\u001b[0m\u001b[0m\n\u001b[0m\u001b[1;32m      2\u001b[0m \u001b[0mmorning_star\u001b[0m \u001b[0;34m=\u001b[0m \u001b[0mtalib\u001b[0m\u001b[0;34m.\u001b[0m\u001b[0mCDLMORNINGSTAR\u001b[0m\u001b[0;34m(\u001b[0m\u001b[0mdf\u001b[0m\u001b[0;34m[\u001b[0m\u001b[0;34m'open'\u001b[0m\u001b[0;34m]\u001b[0m\u001b[0;34m,\u001b[0m \u001b[0mdf\u001b[0m\u001b[0;34m[\u001b[0m\u001b[0;34m'high'\u001b[0m\u001b[0;34m]\u001b[0m\u001b[0;34m,\u001b[0m \u001b[0mdf\u001b[0m\u001b[0;34m[\u001b[0m\u001b[0;34m'low'\u001b[0m\u001b[0;34m]\u001b[0m\u001b[0;34m,\u001b[0m \u001b[0mdf\u001b[0m\u001b[0;34m[\u001b[0m\u001b[0;34m'close'\u001b[0m\u001b[0;34m]\u001b[0m\u001b[0;34m)\u001b[0m\u001b[0;34m\u001b[0m\u001b[0;34m\u001b[0m\u001b[0m\n\u001b[1;32m      3\u001b[0m \u001b[0mengulfing\u001b[0m \u001b[0;34m=\u001b[0m \u001b[0mtalib\u001b[0m\u001b[0;34m.\u001b[0m\u001b[0mCDLENGULFING\u001b[0m\u001b[0;34m(\u001b[0m\u001b[0mdf\u001b[0m\u001b[0;34m[\u001b[0m\u001b[0;34m'open'\u001b[0m\u001b[0;34m]\u001b[0m\u001b[0;34m,\u001b[0m \u001b[0mdf\u001b[0m\u001b[0;34m[\u001b[0m\u001b[0;34m'high'\u001b[0m\u001b[0;34m]\u001b[0m\u001b[0;34m,\u001b[0m \u001b[0mdf\u001b[0m\u001b[0;34m[\u001b[0m\u001b[0;34m'low'\u001b[0m\u001b[0;34m]\u001b[0m\u001b[0;34m,\u001b[0m \u001b[0mdf\u001b[0m\u001b[0;34m[\u001b[0m\u001b[0;34m'close'\u001b[0m\u001b[0;34m]\u001b[0m\u001b[0;34m)\u001b[0m\u001b[0;34m\u001b[0m\u001b[0;34m\u001b[0m\u001b[0m\n",
      "\u001b[0;31mModuleNotFoundError\u001b[0m: No module named 'talib'"
     ]
    }
   ],
   "source": [
    "import talib\n",
    "morning_star = talib.CDLMORNINGSTAR(df['open'], df['high'], df['low'], df['close'])\n",
    "engulfing = talib.CDLENGULFING(df['open'], df['high'], df['low'], df['close'])"
   ]
  },
  {
   "cell_type": "code",
   "execution_count": 19,
   "id": "5944c8c7",
   "metadata": {},
   "outputs": [],
   "source": [
    "df['morning_star'] = morning_star\n",
    "df['engulfing'] = engulfing"
   ]
  },
  {
   "cell_type": "code",
   "execution_count": 20,
   "id": "61296c13",
   "metadata": {},
   "outputs": [
    {
     "name": "stdout",
     "output_type": "stream",
     "text": [
      "336    100\n",
      "476    100\n",
      "dtype: int32\n"
     ]
    }
   ],
   "source": [
    "print(morning_star[morning_star != 0])"
   ]
  },
  {
   "cell_type": "code",
   "execution_count": 21,
   "id": "1a34561e",
   "metadata": {},
   "outputs": [
    {
     "name": "stdout",
     "output_type": "stream",
     "text": [
      "     stock_id         dt  open  high   low  close      volume  morning_star  \\\n",
      "336     16216 2000-05-22  1.93  2.08  1.76   2.08  51715200.0           100   \n",
      "476     16216 2000-12-08  1.71  1.91  1.55   1.90  85339200.0           100   \n",
      "\n",
      "     engulfing  \n",
      "336          0  \n",
      "476          0  \n"
     ]
    }
   ],
   "source": [
    "print(df[morning_star != 0])"
   ]
  },
  {
   "cell_type": "code",
   "execution_count": 16,
   "id": "79aac219",
   "metadata": {},
   "outputs": [
    {
     "name": "stdout",
     "output_type": "stream",
     "text": [
      "       stock_id         dt    open    high     low   close       volume  \\\n",
      "10094     15687 2020-12-23  131.54  131.81  130.17  130.35   88223700.0   \n",
      "10129     15687 2021-02-16  135.06  135.58  132.37  132.77   80576300.0   \n",
      "10164     15687 2021-04-07  125.43  127.51  124.74  127.49   83466700.0   \n",
      "10169     15687 2021-04-14  134.51  134.57  131.24  131.61   87222800.0   \n",
      "10172     15687 2021-04-19  133.08  135.04  132.91  134.41   94264200.0   \n",
      "10173     15687 2021-04-20  134.59  135.10  131.39  132.69   94812300.0   \n",
      "10185     15687 2021-05-06  127.48  129.34  126.72  129.33   78128300.0   \n",
      "10214     15687 2021-06-17  129.61  132.35  129.46  131.59   96721700.0   \n",
      "10216     15687 2021-06-21  130.11  132.21  129.02  132.10   79663300.0   \n",
      "10241     15687 2021-07-27  148.90  148.99  145.33  146.55  104818600.0   \n",
      "\n",
      "       morning_star  engulfing  \n",
      "10094             0       -100  \n",
      "10129             0       -100  \n",
      "10164             0        100  \n",
      "10169             0       -100  \n",
      "10172             0        100  \n",
      "10173             0       -100  \n",
      "10185             0        100  \n",
      "10214             0        100  \n",
      "10216             0        100  \n",
      "10241             0       -100  \n"
     ]
    }
   ],
   "source": [
    "print(df[engulfing != 0].tail(10))"
   ]
  },
  {
   "cell_type": "code",
   "execution_count": null,
   "id": "2fe6fbf6",
   "metadata": {},
   "outputs": [],
   "source": []
  }
 ],
 "metadata": {
  "kernelspec": {
   "display_name": "Python 3 (ipykernel)",
   "language": "python",
   "name": "python3"
  },
  "language_info": {
   "codemirror_mode": {
    "name": "ipython",
    "version": 3
   },
   "file_extension": ".py",
   "mimetype": "text/x-python",
   "name": "python",
   "nbconvert_exporter": "python",
   "pygments_lexer": "ipython3",
   "version": "3.9.6"
  }
 },
 "nbformat": 4,
 "nbformat_minor": 5
}

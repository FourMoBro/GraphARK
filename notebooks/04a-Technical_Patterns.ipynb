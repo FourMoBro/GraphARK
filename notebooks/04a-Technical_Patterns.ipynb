{
 "cells": [
  {
   "cell_type": "code",
   "execution_count": 1,
   "id": "f398b795",
   "metadata": {},
   "outputs": [],
   "source": [
    "#Load initial libraries\n",
    "import os\n",
    "from dotenv import load_dotenv, find_dotenv"
   ]
  },
  {
   "cell_type": "code",
   "execution_count": 2,
   "id": "d5c64ad2",
   "metadata": {},
   "outputs": [],
   "source": [
    "#Get environment variables\n",
    "pg_url2 = os.environ.get(\"PG_URL\")"
   ]
  },
  {
   "cell_type": "code",
   "execution_count": 3,
   "id": "c475de4d",
   "metadata": {},
   "outputs": [],
   "source": [
    "#connect to database\n",
    "from sqlalchemy import create_engine\n",
    "engine = create_engine(pg_url2)"
   ]
  },
  {
   "cell_type": "markdown",
   "id": "8c9d609b",
   "metadata": {},
   "source": [
    "#Define a function to connect to the database. This was normally done with a one liner, and the example used a dict. \n",
    "#I ignored using the dict\n",
    "def connect(host2, database2, user2, password2):\n",
    "    \"\"\" Connect to the PostgreSQL database server \"\"\"\n",
    "    conn = None\n",
    "    try:\n",
    "        # connect to the PostgreSQL server\n",
    "        print('Connecting to the PostgreSQL database...')\n",
    "        conn = psycopg2.connect(host=host2, database=database2, user=user2, password=password2)\n",
    "    except (Exception, psycopg2.DatabaseError) as error:\n",
    "        print(error)\n",
    "        sys.exit(1) \n",
    "    print(\"Connection successful\")\n",
    "    return conn\n",
    "\n",
    "conn = connect(host2, database2, user2, password2)"
   ]
  },
  {
   "cell_type": "code",
   "execution_count": 7,
   "id": "5b84cdcd",
   "metadata": {},
   "outputs": [
    {
     "data": {
      "text/html": [
       "<div>\n",
       "<style scoped>\n",
       "    .dataframe tbody tr th:only-of-type {\n",
       "        vertical-align: middle;\n",
       "    }\n",
       "\n",
       "    .dataframe tbody tr th {\n",
       "        vertical-align: top;\n",
       "    }\n",
       "\n",
       "    .dataframe thead th {\n",
       "        text-align: right;\n",
       "    }\n",
       "</style>\n",
       "<table border=\"1\" class=\"dataframe\">\n",
       "  <thead>\n",
       "    <tr style=\"text-align: right;\">\n",
       "      <th></th>\n",
       "      <th>stock_id</th>\n",
       "      <th>dt</th>\n",
       "      <th>open</th>\n",
       "      <th>high</th>\n",
       "      <th>low</th>\n",
       "      <th>close</th>\n",
       "      <th>volume</th>\n",
       "    </tr>\n",
       "  </thead>\n",
       "  <tbody>\n",
       "    <tr>\n",
       "      <th>10247</th>\n",
       "      <td>15687</td>\n",
       "      <td>2021-08-04</td>\n",
       "      <td>147.05</td>\n",
       "      <td>147.57</td>\n",
       "      <td>146.06</td>\n",
       "      <td>146.73</td>\n",
       "      <td>56368300.0</td>\n",
       "    </tr>\n",
       "    <tr>\n",
       "      <th>10248</th>\n",
       "      <td>15687</td>\n",
       "      <td>2021-08-05</td>\n",
       "      <td>146.76</td>\n",
       "      <td>147.62</td>\n",
       "      <td>145.95</td>\n",
       "      <td>146.84</td>\n",
       "      <td>46397700.0</td>\n",
       "    </tr>\n",
       "    <tr>\n",
       "      <th>10249</th>\n",
       "      <td>15687</td>\n",
       "      <td>2021-08-06</td>\n",
       "      <td>146.35</td>\n",
       "      <td>147.11</td>\n",
       "      <td>145.63</td>\n",
       "      <td>146.14</td>\n",
       "      <td>54067400.0</td>\n",
       "    </tr>\n",
       "    <tr>\n",
       "      <th>10250</th>\n",
       "      <td>15687</td>\n",
       "      <td>2021-08-09</td>\n",
       "      <td>146.20</td>\n",
       "      <td>146.70</td>\n",
       "      <td>145.52</td>\n",
       "      <td>146.09</td>\n",
       "      <td>48908700.0</td>\n",
       "    </tr>\n",
       "    <tr>\n",
       "      <th>10251</th>\n",
       "      <td>15687</td>\n",
       "      <td>2021-08-10</td>\n",
       "      <td>146.44</td>\n",
       "      <td>147.71</td>\n",
       "      <td>145.30</td>\n",
       "      <td>145.60</td>\n",
       "      <td>66428124.0</td>\n",
       "    </tr>\n",
       "  </tbody>\n",
       "</table>\n",
       "</div>"
      ],
      "text/plain": [
       "       stock_id         dt    open    high     low   close      volume\n",
       "10247     15687 2021-08-04  147.05  147.57  146.06  146.73  56368300.0\n",
       "10248     15687 2021-08-05  146.76  147.62  145.95  146.84  46397700.0\n",
       "10249     15687 2021-08-06  146.35  147.11  145.63  146.14  54067400.0\n",
       "10250     15687 2021-08-09  146.20  146.70  145.52  146.09  48908700.0\n",
       "10251     15687 2021-08-10  146.44  147.71  145.30  145.60  66428124.0"
      ]
     },
     "execution_count": 7,
     "metadata": {},
     "output_type": "execute_result"
    }
   ],
   "source": [
    "#query database and load price dataframe\n",
    "import pandas as pd\n",
    "query = \"\"\"\n",
    "    select * from stock_prices where stock_id = 15687\n",
    "\"\"\"\n",
    "df = pd.read_sql_query(query, engine)\n",
    "df.tail()"
   ]
  },
  {
   "cell_type": "code",
   "execution_count": 13,
   "id": "d5f99b85",
   "metadata": {},
   "outputs": [],
   "source": [
    "import talib\n",
    "morning_star = talib.CDLMORNINGSTAR(df['open'], df['high'], df['low'], df['close'])\n",
    "engulfing = talib.CDLENGULFING(df['open'], df['high'], df['low'], df['close'])"
   ]
  },
  {
   "cell_type": "code",
   "execution_count": 14,
   "id": "e11788b4",
   "metadata": {},
   "outputs": [],
   "source": [
    "df['morning_star'] = morning_star\n",
    "df['engulfing'] = engulfing"
   ]
  },
  {
   "cell_type": "code",
   "execution_count": 11,
   "id": "d512102b",
   "metadata": {},
   "outputs": [
    {
     "name": "stdout",
     "output_type": "stream",
     "text": [
      "2386     100\n",
      "4831     100\n",
      "6255     100\n",
      "6520     100\n",
      "6756     100\n",
      "6852     100\n",
      "6940     100\n",
      "7107     100\n",
      "7124     100\n",
      "7264     100\n",
      "7304     100\n",
      "7487     100\n",
      "7553     100\n",
      "7583     100\n",
      "7700     100\n",
      "8021     100\n",
      "8160     100\n",
      "8579     100\n",
      "8698     100\n",
      "8769     100\n",
      "9232     100\n",
      "9538     100\n",
      "9591     100\n",
      "9903     100\n",
      "10065    100\n",
      "10153    100\n",
      "dtype: int32\n"
     ]
    }
   ],
   "source": [
    "print(morning_star[morning_star != 0])"
   ]
  },
  {
   "cell_type": "code",
   "execution_count": 12,
   "id": "c5ee665f",
   "metadata": {},
   "outputs": [
    {
     "name": "stdout",
     "output_type": "stream",
     "text": [
      "       stock_id         dt    open    high     low   close        volume  \\\n",
      "2386      15687 1990-05-22    0.29    0.30    0.29    0.30  3.010896e+08   \n",
      "4831      15687 2000-01-25    0.80    0.87    0.78    0.86  4.971456e+08   \n",
      "6255      15687 2005-09-23    1.60    1.64    1.59    1.63  5.584572e+08   \n",
      "6520      15687 2006-10-12    2.26    2.31    2.26    2.31  5.928552e+08   \n",
      "6756      15687 2007-09-21    4.33    4.44    4.30    4.42  1.138880e+09   \n",
      "6852      15687 2008-02-08    3.74    3.85    3.73    3.85  1.355973e+09   \n",
      "6940      15687 2008-06-16    5.25    5.46    5.18    5.42  1.051730e+09   \n",
      "7107      15687 2009-02-12    2.94    3.06    2.94    3.04  8.171884e+08   \n",
      "7124      15687 2009-03-10    2.60    2.73    2.59    2.72  8.442588e+08   \n",
      "7264      15687 2009-09-28    5.64    5.72    5.62    5.71  3.374448e+08   \n",
      "7304      15687 2009-11-23    6.22    6.32    6.22    6.31  4.748968e+08   \n",
      "7487      15687 2010-08-17    7.67    7.81    7.64    7.73  4.226404e+08   \n",
      "7553      15687 2010-11-18    9.36    9.50    9.34    9.46  4.944912e+08   \n",
      "7583      15687 2011-01-03    9.99   10.13    9.96   10.11  4.451384e+08   \n",
      "7700      15687 2011-06-21    9.71    9.99    9.67    9.98  4.933824e+08   \n",
      "8021      15687 2012-09-27   20.46   21.01   20.34   20.98  5.940900e+08   \n",
      "8160      15687 2013-04-22   12.22   12.52   12.18   12.41  4.299204e+08   \n",
      "8579      15687 2014-12-17   24.28   24.90   24.21   24.80  2.136472e+08   \n",
      "8698      15687 2015-06-10   29.23   29.56   29.22   29.45  1.563492e+08   \n",
      "8769      15687 2015-09-21   26.09   26.48   26.09   26.45  2.008880e+08   \n",
      "9232      15687 2017-07-24   35.79   36.23   35.63   36.15  8.597280e+07   \n",
      "9538      15687 2018-10-09   54.17   55.05   53.83   54.95  1.075640e+08   \n",
      "9591      15687 2018-12-26   36.04   38.21   35.66   38.20  2.343300e+08   \n",
      "9903      15687 2020-03-24   58.45   61.25   57.94   61.05  2.875312e+08   \n",
      "10065     15687 2020-11-11  116.64  119.07  115.90  118.93  1.122950e+08   \n",
      "10153     15687 2021-03-22  119.95  123.47  119.88  123.00  1.119123e+08   \n",
      "\n",
      "       morning_star  \n",
      "2386            100  \n",
      "4831            100  \n",
      "6255            100  \n",
      "6520            100  \n",
      "6756            100  \n",
      "6852            100  \n",
      "6940            100  \n",
      "7107            100  \n",
      "7124            100  \n",
      "7264            100  \n",
      "7304            100  \n",
      "7487            100  \n",
      "7553            100  \n",
      "7583            100  \n",
      "7700            100  \n",
      "8021            100  \n",
      "8160            100  \n",
      "8579            100  \n",
      "8698            100  \n",
      "8769            100  \n",
      "9232            100  \n",
      "9538            100  \n",
      "9591            100  \n",
      "9903            100  \n",
      "10065           100  \n",
      "10153           100  \n"
     ]
    }
   ],
   "source": [
    "print(df[morning_star != 0])"
   ]
  },
  {
   "cell_type": "code",
   "execution_count": 16,
   "id": "0ccc14cf",
   "metadata": {},
   "outputs": [
    {
     "name": "stdout",
     "output_type": "stream",
     "text": [
      "       stock_id         dt    open    high     low   close       volume  \\\n",
      "10094     15687 2020-12-23  131.54  131.81  130.17  130.35   88223700.0   \n",
      "10129     15687 2021-02-16  135.06  135.58  132.37  132.77   80576300.0   \n",
      "10164     15687 2021-04-07  125.43  127.51  124.74  127.49   83466700.0   \n",
      "10169     15687 2021-04-14  134.51  134.57  131.24  131.61   87222800.0   \n",
      "10172     15687 2021-04-19  133.08  135.04  132.91  134.41   94264200.0   \n",
      "10173     15687 2021-04-20  134.59  135.10  131.39  132.69   94812300.0   \n",
      "10185     15687 2021-05-06  127.48  129.34  126.72  129.33   78128300.0   \n",
      "10214     15687 2021-06-17  129.61  132.35  129.46  131.59   96721700.0   \n",
      "10216     15687 2021-06-21  130.11  132.21  129.02  132.10   79663300.0   \n",
      "10241     15687 2021-07-27  148.90  148.99  145.33  146.55  104818600.0   \n",
      "\n",
      "       morning_star  engulfing  \n",
      "10094             0       -100  \n",
      "10129             0       -100  \n",
      "10164             0        100  \n",
      "10169             0       -100  \n",
      "10172             0        100  \n",
      "10173             0       -100  \n",
      "10185             0        100  \n",
      "10214             0        100  \n",
      "10216             0        100  \n",
      "10241             0       -100  \n"
     ]
    }
   ],
   "source": [
    "print(df[engulfing != 0].tail(10))"
   ]
  },
  {
   "cell_type": "code",
   "execution_count": null,
   "id": "0b6b5fe6",
   "metadata": {},
   "outputs": [],
   "source": []
  }
 ],
 "metadata": {
  "kernelspec": {
   "display_name": "Python 3 (ipykernel)",
   "language": "python",
   "name": "python3"
  },
  "language_info": {
   "codemirror_mode": {
    "name": "ipython",
    "version": 3
   },
   "file_extension": ".py",
   "mimetype": "text/x-python",
   "name": "python",
   "nbconvert_exporter": "python",
   "pygments_lexer": "ipython3",
   "version": "3.9.6"
  }
 },
 "nbformat": 4,
 "nbformat_minor": 5
}

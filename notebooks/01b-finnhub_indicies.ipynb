{
 "cells": [
  {
   "cell_type": "code",
   "execution_count": null,
   "id": "005ed891",
   "metadata": {},
   "outputs": [],
   "source": [
    "import os\n",
    "import pandas as pd\n",
    "from sqlalchemy import create_engine\n",
    "from dotenv import load_dotenv, find_dotenv\n",
    " "
   ]
  },
  {
   "cell_type": "code",
   "execution_count": null,
   "id": "9f5b0f13",
   "metadata": {},
   "outputs": [],
   "source": [
    "load_dotenv(find_dotenv())"
   ]
  },
  {
   "cell_type": "code",
   "execution_count": null,
   "id": "2e0d3bce",
   "metadata": {},
   "outputs": [],
   "source": [
    "pg_url2 = os.environ.get(\"PG_URL\")"
   ]
  },
  {
   "cell_type": "code",
   "execution_count": null,
   "id": "b6020942",
   "metadata": {},
   "outputs": [],
   "source": [
    "sheet_url = \"https://docs.google.com/spreadsheets/d/1Syr2eLielHWsorxkDEZXyc55d6bNx1M3ZeI4vdn7Qzo/edit#gid=0\"\n",
    "url_1 = sheet_url.replace('/edit#gid=', '/export?format=csv&gid=')\n",
    "df = pd.read_csv(url_1)"
   ]
  },
  {
   "cell_type": "code",
   "execution_count": null,
   "id": "dfd06e39",
   "metadata": {},
   "outputs": [],
   "source": [
    "cnx =  create_engine(pg_url2)"
   ]
  },
  {
   "cell_type": "markdown",
   "id": "86f645fb",
   "metadata": {},
   "source": [
    "# Create new table from dataframe"
   ]
  },
  {
   "cell_type": "code",
   "execution_count": null,
   "id": "216892e0",
   "metadata": {},
   "outputs": [],
   "source": [
    "df.to_sql('indices', con=cnx, index=False)"
   ]
  },
  {
   "cell_type": "code",
   "execution_count": null,
   "id": "1fc88896",
   "metadata": {},
   "outputs": [],
   "source": []
  }
 ],
 "metadata": {
  "kernelspec": {
   "display_name": "Python 3 (ipykernel)",
   "language": "python",
   "name": "python3"
  },
  "language_info": {
   "codemirror_mode": {
    "name": "ipython",
    "version": 3
   },
   "file_extension": ".py",
   "mimetype": "text/x-python",
   "name": "python",
   "nbconvert_exporter": "python",
   "pygments_lexer": "ipython3",
   "version": "3.9.6"
  }
 },
 "nbformat": 4,
 "nbformat_minor": 5
}

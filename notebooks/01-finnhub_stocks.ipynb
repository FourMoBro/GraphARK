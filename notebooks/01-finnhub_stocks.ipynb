{
 "cells": [
  {
   "cell_type": "code",
   "execution_count": null,
   "id": "005ed891",
   "metadata": {},
   "outputs": [],
   "source": [
    "import os\n",
    "import finnhub\n",
    "from dotenv import load_dotenv, find_dotenv\n",
    "import psycopg2\n",
    "import psycopg2.extras "
   ]
  },
  {
   "cell_type": "code",
   "execution_count": null,
   "id": "9f5b0f13",
   "metadata": {},
   "outputs": [],
   "source": [
    "load_dotenv(find_dotenv())"
   ]
  },
  {
   "cell_type": "code",
   "execution_count": null,
   "id": "2e0d3bce",
   "metadata": {},
   "outputs": [],
   "source": [
    "api_key2 = os.environ.get(\"FINNHUB_API_KEY\")\n",
    "host2 = os.environ.get(\"DB_HOST\")\n",
    "database2 = os.environ.get(\"DB_NAME\")\n",
    "user2 = os.environ.get(\"DB_USER\")\n",
    "password2 = os.environ.get(\"DB_PASSWORD\")"
   ]
  },
  {
   "cell_type": "code",
   "execution_count": null,
   "id": "d6e75689",
   "metadata": {},
   "outputs": [],
   "source": [
    "finnhub_client = finnhub.Client(api_key=api_key2)"
   ]
  },
  {
   "cell_type": "code",
   "execution_count": null,
   "id": "7e1cc854",
   "metadata": {},
   "outputs": [],
   "source": [
    "stock_list = finnhub_client.stock_symbols('US')\n",
    "len(stock_list)"
   ]
  },
  {
   "cell_type": "code",
   "execution_count": null,
   "id": "09e9a9b3",
   "metadata": {},
   "outputs": [],
   "source": [
    "stock_list"
   ]
  },
  {
   "cell_type": "code",
   "execution_count": null,
   "id": "dfd06e39",
   "metadata": {},
   "outputs": [],
   "source": [
    "connection = psycopg2.connect(host=host2, database=database2, user=user2, password=password2)"
   ]
  },
  {
   "cell_type": "code",
   "execution_count": null,
   "id": "8dbf2968",
   "metadata": {},
   "outputs": [],
   "source": [
    "cursor = connection.cursor(cursor_factory=psycopg2.extras.DictCursor)"
   ]
  },
  {
   "cell_type": "code",
   "execution_count": null,
   "id": "216892e0",
   "metadata": {},
   "outputs": [],
   "source": [
    "for stock in stock_list:\n",
    "    \n",
    "    print(f\"Inserting stock {stock.get('description')} {stock.get('symbol')}\")\n",
    "    cursor.execute(\"\"\"\n",
    "        INSERT INTO stock_sql (description, symbol, figi, type) \n",
    "        VALUES (%s, %s, %s, %s)\n",
    "    \"\"\", (stock.get('description'), stock.get('symbol'), stock.get('figi'), stock.get('type')))\n",
    "\n",
    "connection.commit()"
   ]
  },
  {
   "cell_type": "code",
   "execution_count": null,
   "id": "1fc88896",
   "metadata": {},
   "outputs": [],
   "source": []
  }
 ],
 "metadata": {
  "kernelspec": {
   "display_name": "Python 3 (ipykernel)",
   "language": "python",
   "name": "python3"
  },
  "language_info": {
   "codemirror_mode": {
    "name": "ipython",
    "version": 3
   },
   "file_extension": ".py",
   "mimetype": "text/x-python",
   "name": "python",
   "nbconvert_exporter": "python",
   "pygments_lexer": "ipython3",
   "version": "3.9.6"
  }
 },
 "nbformat": 4,
 "nbformat_minor": 5
}
